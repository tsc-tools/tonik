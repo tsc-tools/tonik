{
 "cells": [
  {
   "cell_type": "markdown",
   "metadata": {},
   "source": [
    "## Examples on how to store and retrieve data using lockerroom"
   ]
  },
  {
   "cell_type": "code",
   "execution_count": null,
   "metadata": {},
   "outputs": [],
   "source": [
    "from datetime import datetime\n",
    "import os\n",
    "import numpy as np\n",
    "import pandas as pd\n",
    "import xarray as xr\n",
    "from tonik import Locker, LockerRoom"
   ]
  },
  {
   "cell_type": "markdown",
   "metadata": {},
   "source": [
    "A locker room consists of many lockers. Each locker stores data for a single sensor and the locker room groups sensors by, for example, experiment or geographic location. We will start by generating fake spectrogram data."
   ]
  },
  {
   "cell_type": "code",
   "execution_count": null,
   "metadata": {},
   "outputs": [],
   "source": [
    "dates = pd.date_range(\"2024-01-02\", freq='10min', periods=288)\n",
    "data = np.abs(np.cumsum(np.random.normal(0, 8., len(dates))))\n",
    "data = np.tile(data, (10, 1))\n",
    "freqs = np.arange(10)\n",
    "xrd = xr.Dataset({'spectrogram': xr.DataArray(data, coords=[freqs, dates],\n",
    "                                              dims=['frequency', 'datetime'])})\n",
    "fig = xrd['spectrogram'].plot()"
   ]
  },
  {
   "cell_type": "markdown",
   "metadata": {},
   "source": [
    "Now we will store the data under two different sites of the same experiment."
   ]
  },
  {
   "cell_type": "code",
   "execution_count": null,
   "metadata": {},
   "outputs": [],
   "source": [
    "lr = LockerRoom('test_experiment')\n",
    "l1 = lr.get_locker(site='MDR1', location='00', channel='HHZ')\n",
    "l2 = lr.get_locker(site='MDR2', location='00', channel='HHZ')\n",
    "l1.save(xrd)\n",
    "l2.save(xrd)\n",
    "lr"
   ]
  },
  {
   "cell_type": "code",
   "execution_count": null,
   "metadata": {},
   "outputs": [],
   "source": [
    "!tree /tmp/test_experiment"
   ]
  },
  {
   "cell_type": "markdown",
   "metadata": {},
   "source": [
    "Next we want to retrieve the data we just saved. Before retrieving data we have to set the timespan over which we want to retrieve data."
   ]
  },
  {
   "cell_type": "code",
   "execution_count": null,
   "metadata": {},
   "outputs": [],
   "source": [
    "lr.starttime = datetime(2024, 1, 2, 18, 0, 0)\n",
    "lr.endtime = datetime(2024, 1, 3, 6, 0, 0)\n",
    "l = lr.get_locker('MDR2', '00', 'HHZ')\n",
    "l('spectrogram').plot()"
   ]
  }
 ],
 "metadata": {
  "kernelspec": {
   "display_name": "Python 3",
   "language": "python",
   "name": "python3"
  },
  "language_info": {
   "codemirror_mode": {
    "name": "ipython",
    "version": 3
   },
   "file_extension": ".py",
   "mimetype": "text/x-python",
   "name": "python",
   "nbconvert_exporter": "python",
   "pygments_lexer": "ipython3",
   "version": "3.10.14"
  }
 },
 "nbformat": 4,
 "nbformat_minor": 2
}
