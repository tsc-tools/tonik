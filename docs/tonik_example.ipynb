{
 "cells": [
  {
   "cell_type": "markdown",
   "metadata": {},
   "source": [
    "# User Guide\n",
    "## Examples on how to store and retrieve data using StorageGroup "
   ]
  },
  {
   "cell_type": "code",
   "execution_count": null,
   "metadata": {},
   "outputs": [],
   "source": [
    "from datetime import datetime\n",
    "import os\n",
    "import numpy as np\n",
    "import pandas as pd\n",
    "import xarray as xr\n",
    "from tonik import StorageGroup "
   ]
  },
  {
   "cell_type": "markdown",
   "metadata": {},
   "source": [
    "The hierarchy of a storage group is sites, sensors, and channels. Data can be stored under each of them. We will start by generating fake spectrogram data and then store that under a channel."
   ]
  },
  {
   "cell_type": "code",
   "execution_count": null,
   "metadata": {},
   "outputs": [],
   "source": [
    "dates = pd.date_range(\"2024-01-02\", freq='10min', periods=288)\n",
    "data = np.abs(np.cumsum(np.random.normal(0, 8., len(dates))))\n",
    "data = np.tile(data, (10, 1))\n",
    "freqs = np.arange(10)\n",
    "xrd = xr.Dataset({'spectrogram': xr.DataArray(data, coords=[freqs, dates],\n",
    "                                              dims=['frequency', 'datetime'])})\n",
    "fig = xrd['spectrogram'].plot()"
   ]
  },
  {
   "cell_type": "markdown",
   "metadata": {},
   "source": [
    "Now we will store the data under two different sites of the same experiment using the same sensor and channel names for both."
   ]
  },
  {
   "cell_type": "code",
   "execution_count": null,
   "metadata": {},
   "outputs": [],
   "source": [
    "g = StorageGroup('test_experiment', rootdir='/tmp')\n",
    "st1 = g.get_store(site='MDR1', sensor='00', channel='HHZ')\n",
    "st2 = g.get_store(site='MDR2', sensor='00', channel='HHZ')\n",
    "st1.save(xrd)\n",
    "st2.save(xrd)\n",
    "g"
   ]
  },
  {
   "cell_type": "markdown",
   "metadata": {},
   "source": [
    "Next we want to retrieve the data we just saved. Before retrieving data we have to set the timespan over which we want to retrieve data."
   ]
  },
  {
   "cell_type": "code",
   "execution_count": null,
   "metadata": {},
   "outputs": [],
   "source": [
    "g.starttime = datetime(2024, 1, 2, 18, 0, 0)\n",
    "g.endtime = datetime(2024, 1, 3, 6, 0, 0)\n",
    "st = g.get_store('MDR2', '00', 'HHZ')\n",
    "st('spectrogram').plot()"
   ]
  },
  {
   "cell_type": "code",
   "execution_count": null,
   "metadata": {},
   "outputs": [],
   "source": [
    "# Now start the API server by running the following command in a terminal\n",
    "# tonik_api --rootdir examples"
   ]
  },
  {
   "cell_type": "code",
   "execution_count": null,
   "metadata": {},
   "outputs": [],
   "source": [
    "url = \"http://localhost:8003/feature?\"\n",
    "url += f\"group={g.name}&site=MDR2&sensor=00&channel=HHZ&name=spectrogram\"\n",
    "url += f\"&starttime={g.starttime.isoformat()}&endtime={g.endtime.isoformat()}\" \n",
    "spec = pd.read_csv(url, parse_dates=True, index_col=[0, 1], date_format='ISO8601').to_xarray()\n",
    "spec.transpose('freqs', 'dates')['feature'].plot()"
   ]
  }
 ],
 "metadata": {
  "kernelspec": {
   "display_name": "Python 3",
   "language": "python",
   "name": "python3"
  },
  "language_info": {
   "codemirror_mode": {
    "name": "ipython",
    "version": 3
   },
   "file_extension": ".py",
   "mimetype": "text/x-python",
   "name": "python",
   "nbconvert_exporter": "python",
   "pygments_lexer": "ipython3",
   "version": "2.7.undefined"
  }
 },
 "nbformat": 4,
 "nbformat_minor": 2
}
